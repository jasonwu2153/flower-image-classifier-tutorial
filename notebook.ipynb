{
 "cells": [
  {
   "cell_type": "markdown",
   "metadata": {},
   "source": [
    "# **Image Classification with Keras**"
   ]
  },
  {
   "cell_type": "markdown",
   "metadata": {},
   "source": [
    "Hey! I'm [Jason](https://github.com/jasonwu2153), and I'm a junior @Yale majoring in CS. This notebook is my workspace for messing around with Tensorflow's [Image Classification Tutorial](https://www.tensorflow.org/tutorials/images/classification). I'm pretty new to ML and wanted to play with Keras a bit. If you want to mess around with the tutorial yourself, click on the link above! Note that this notebook is pretty much the exact same as Tensorflow's tutorial, but I've added a couple of notes here and there to help fill in any gaps in ML knowledge that I needed to fully understand the concepts."
   ]
  },
  {
   "cell_type": "markdown",
   "metadata": {},
   "source": [
    "### **Import TensorFlow and Other Libraries**"
   ]
  },
  {
   "cell_type": "markdown",
   "metadata": {},
   "source": [
    "First, we are just installing the libraries needed. If you are running this from my [GitHub repo](https://github.com/jasonwu2153/flower-image-classifier-tutorial), I've included a Pipfile in the root directory that can be used to install all of these dependencies. Most of the libraries below are pretty straightforward. This tutorial uses the [Keras Sequential Model](https://keras.io/guides/sequential_model/), which is just a **plain stack of layers** where each layer has **exactly one input tensor and one output tensor**. There are more details about this in the previous link."
   ]
  },
  {
   "cell_type": "code",
   "execution_count": 1,
   "metadata": {},
   "outputs": [],
   "source": [
    "import matplotlib.pyplot as plt\n",
    "import numpy as np\n",
    "import os\n",
    "import PIL\n",
    "import tensorflow as tf\n",
    "\n",
    "from tensorflow import keras\n",
    "from tensorflow.keras import layers\n",
    "from tensorflow.keras.models import Sequential"
   ]
  },
  {
   "cell_type": "markdown",
   "metadata": {},
   "source": [
    "### **Download & Explore Dataset**"
   ]
  },
  {
   "cell_type": "markdown",
   "metadata": {},
   "source": [
    "Tensorflow's tutorial comes with a dataset of 3,700 flower images organized with the dir structure below."
   ]
  }
 ],
 "metadata": {
  "kernelspec": {
   "display_name": "Python 3",
   "language": "python",
   "name": "python3"
  },
  "language_info": {
   "codemirror_mode": {
    "name": "ipython",
    "version": 3
   },
   "file_extension": ".py",
   "mimetype": "text/x-python",
   "name": "python",
   "nbconvert_exporter": "python",
   "pygments_lexer": "ipython3",
   "version": "3.8.5"
  }
 },
 "nbformat": 4,
 "nbformat_minor": 4
}
